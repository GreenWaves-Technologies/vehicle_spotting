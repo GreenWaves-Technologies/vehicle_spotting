{
 "cells": [
  {
   "cell_type": "code",
   "execution_count": 4,
   "metadata": {},
   "outputs": [
    {
     "name": "stdout",
     "output_type": "stream",
     "text": [
      "\u001b[31mERROR: tensorflow-gpu 2.0.0 has requirement tensorboard<2.1.0,>=2.0.0, but you'll have tensorboard 2.1.0 which is incompatible.\u001b[0m\n",
      "\u001b[31mERROR: tensorflow-gpu 2.0.0 has requirement tensorflow-estimator<2.1.0,>=2.0.0, but you'll have tensorflow-estimator 2.1.0 which is incompatible.\u001b[0m\n",
      "\u001b[31mERROR: tensorboard 2.1.0 has requirement grpcio>=1.24.3, but you'll have grpcio 1.24.0 which is incompatible.\u001b[0m\n",
      "\u001b[33mWARNING: You are using pip version 19.2.3, however version 20.0.2 is available.\n",
      "You should consider upgrading via the 'pip install --upgrade pip' command.\u001b[0m\n",
      "Collecting matplotlib\n",
      "\u001b[?25l  Downloading https://files.pythonhosted.org/packages/7e/07/4b361d6d0f4e08942575f83a11d33f36897e1aae4279046606dd1808778a/matplotlib-3.1.3-cp36-cp36m-manylinux1_x86_64.whl (13.1MB)\n",
      "\u001b[K     |████████████████████████████████| 13.1MB 6.2MB/s eta 0:00:01\n",
      "\u001b[?25hRequirement already satisfied: python-dateutil>=2.1 in /usr/local/lib/python3.6/dist-packages (from matplotlib) (2.8.1)\n",
      "Requirement already satisfied: numpy>=1.11 in /usr/local/lib/python3.6/dist-packages (from matplotlib) (1.17.2)\n",
      "Collecting pyparsing!=2.0.4,!=2.1.2,!=2.1.6,>=2.0.1 (from matplotlib)\n",
      "\u001b[?25l  Downloading https://files.pythonhosted.org/packages/5d/bc/1e58593167fade7b544bfe9502a26dc860940a79ab306e651e7f13be68c2/pyparsing-2.4.6-py2.py3-none-any.whl (67kB)\n",
      "\u001b[K     |████████████████████████████████| 71kB 23.5MB/s eta 0:00:01\n",
      "\u001b[?25hCollecting cycler>=0.10 (from matplotlib)\n",
      "  Downloading https://files.pythonhosted.org/packages/f7/d2/e07d3ebb2bd7af696440ce7e754c59dd546ffe1bbe732c8ab68b9c834e61/cycler-0.10.0-py2.py3-none-any.whl\n",
      "Collecting kiwisolver>=1.0.1 (from matplotlib)\n",
      "\u001b[?25l  Downloading https://files.pythonhosted.org/packages/f8/a1/5742b56282449b1c0968197f63eae486eca2c35dcd334bab75ad524e0de1/kiwisolver-1.1.0-cp36-cp36m-manylinux1_x86_64.whl (90kB)\n",
      "\u001b[K     |████████████████████████████████| 92kB 2.6MB/s  eta 0:00:01\n",
      "\u001b[?25hRequirement already satisfied: six>=1.5 in /usr/local/lib/python3.6/dist-packages (from python-dateutil>=2.1->matplotlib) (1.14.0)\n",
      "Requirement already satisfied: setuptools in /usr/local/lib/python3.6/dist-packages (from kiwisolver>=1.0.1->matplotlib) (41.2.0)\n",
      "Installing collected packages: pyparsing, cycler, kiwisolver, matplotlib\n",
      "Successfully installed cycler-0.10.0 kiwisolver-1.1.0 matplotlib-3.1.3 pyparsing-2.4.6\n",
      "\u001b[33mWARNING: You are using pip version 19.2.3, however version 20.0.2 is available.\n",
      "You should consider upgrading via the 'pip install --upgrade pip' command.\u001b[0m\n"
     ]
    }
   ],
   "source": [
    "! pip3 install -q tensorflow tensorflow-datasets\n",
    "! pip3 install matplotlib"
   ]
  },
  {
   "cell_type": "code",
   "execution_count": 1,
   "metadata": {},
   "outputs": [],
   "source": [
    "from __future__ import absolute_import\n",
    "from __future__ import division\n",
    "from __future__ import print_function\n",
    "\n",
    "import matplotlib.pyplot as plt\n",
    "import numpy as np\n",
    "import tensorflow.compat.v2 as tf\n",
    "\n",
    "import tensorflow_datasets as tfds"
   ]
  },
  {
   "cell_type": "code",
   "execution_count": 2,
   "metadata": {},
   "outputs": [],
   "source": [
    "tf.compat.v1.enable_eager_execution()"
   ]
  },
  {
   "cell_type": "code",
   "execution_count": 3,
   "metadata": {},
   "outputs": [],
   "source": [
    "#tfds.list_builders()"
   ]
  },
  {
   "cell_type": "code",
   "execution_count": 4,
   "metadata": {},
   "outputs": [],
   "source": [
    "#coco = tfds.load(\"coco\")"
   ]
  },
  {
   "cell_type": "code",
   "execution_count": 5,
   "metadata": {},
   "outputs": [],
   "source": [
    "coco_train, info = tfds.load('coco', data_dir='/home/fariselli/tensorflow_datasets', split='train', download=False,  with_info=True)"
   ]
  },
  {
   "cell_type": "code",
   "execution_count": 6,
   "metadata": {},
   "outputs": [
    {
     "name": "stdout",
     "output_type": "stream",
     "text": [
      "/home/fariselli/tensorflow_datasets/vww : is a directory\n"
     ]
    }
   ],
   "source": [
    "import os\n",
    "vww_dataset_dir = '/home/fariselli/tensorflow_datasets/vww'\n",
    "\n",
    "if os.path.isdir(vww_dataset_dir):\n",
    "    print(vww_dataset_dir + ' : is a directory')\n",
    "else:\n",
    "    os.mkdir(vww_dataset_dir)"
   ]
  },
  {
   "cell_type": "code",
   "execution_count": 7,
   "metadata": {},
   "outputs": [
    {
     "name": "stdout",
     "output_type": "stream",
     "text": [
      "FeaturesDict({\n",
      "    'image': Image(shape=(None, None, 3), dtype=tf.uint8),\n",
      "    'image/filename': Text(shape=(), dtype=tf.string),\n",
      "    'image/id': Tensor(shape=(), dtype=tf.int64),\n",
      "    'objects': Sequence({\n",
      "        'area': Tensor(shape=(), dtype=tf.int64),\n",
      "        'bbox': BBoxFeature(shape=(4,), dtype=tf.float32),\n",
      "        'id': Tensor(shape=(), dtype=tf.int64),\n",
      "        'is_crowd': Tensor(shape=(), dtype=tf.bool),\n",
      "        'label': ClassLabel(shape=(), dtype=tf.int64, num_classes=80),\n",
      "    }),\n",
      "})\n",
      "ClassLabel(shape=(), dtype=tf.int64, num_classes=80)\n",
      "['person', 'bicycle', 'car', 'motorcycle', 'airplane', 'bus', 'train', 'truck', 'boat', 'traffic light', 'fire hydrant', 'stop sign', 'parking meter', 'bench', 'bird', 'cat', 'dog', 'horse', 'sheep', 'cow', 'elephant', 'bear', 'zebra', 'giraffe', 'backpack', 'umbrella', 'handbag', 'tie', 'suitcase', 'frisbee', 'skis', 'snowboard', 'sports ball', 'kite', 'baseball bat', 'baseball glove', 'skateboard', 'surfboard', 'tennis racket', 'bottle', 'wine glass', 'cup', 'fork', 'knife', 'spoon', 'bowl', 'banana', 'apple', 'sandwich', 'orange', 'broccoli', 'carrot', 'hot dog', 'pizza', 'donut', 'cake', 'chair', 'couch', 'potted plant', 'bed', 'dining table', 'toilet', 'tv', 'laptop', 'mouse', 'remote', 'keyboard', 'cell phone', 'microwave', 'oven', 'toaster', 'sink', 'refrigerator', 'book', 'clock', 'vase', 'scissors', 'teddy bear', 'hair drier', 'toothbrush']\n"
     ]
    }
   ],
   "source": [
    "print(info.features)\n",
    "print(info.features[\"objects\"]['label'])\n",
    "print(info.features['objects'][\"label\"].names)"
   ]
  },
  {
   "cell_type": "code",
   "execution_count": 9,
   "metadata": {},
   "outputs": [
    {
     "name": "stdout",
     "output_type": "stream",
     "text": [
      "tf.Tensor(b'COCO_train2014_000000357057.jpg', shape=(), dtype=string) tf.Tensor(357057, shape=(), dtype=int64)\n",
      "Label: toilet, sink, hair drier, sink, toilet\n",
      "tf.Tensor(b'COCO_train2014_000000415322.jpg', shape=(), dtype=string) tf.Tensor(415322, shape=(), dtype=int64)\n",
      "Label: donut, donut, donut, donut, donut, donut, donut, donut, donut, donut\n",
      "tf.Tensor(b'COCO_train2014_000000399547.jpg', shape=(), dtype=string) tf.Tensor(399547, shape=(), dtype=int64)\n",
      "Label: toothbrush, toothbrush, toothbrush, cup\n",
      "tf.Tensor(b'COCO_train2014_000000156534.jpg', shape=(), dtype=string) tf.Tensor(156534, shape=(), dtype=int64)\n",
      "Label: person, giraffe, person\n",
      "tf.Tensor(b'COCO_train2014_000000132725.jpg', shape=(), dtype=string) tf.Tensor(132725, shape=(), dtype=int64)\n",
      "Label: bench\n",
      "tf.Tensor(b'COCO_train2014_000000125729.jpg', shape=(), dtype=string) tf.Tensor(125729, shape=(), dtype=int64)\n",
      "Label: horse, horse, person, person\n",
      "tf.Tensor(b'COCO_train2014_000000320234.jpg', shape=(), dtype=string) tf.Tensor(320234, shape=(), dtype=int64)\n",
      "Label: person, person, frisbee\n",
      "tf.Tensor(b'COCO_train2014_000000248017.jpg', shape=(), dtype=string) tf.Tensor(248017, shape=(), dtype=int64)\n",
      "Label: clock\n",
      "tf.Tensor(b'COCO_train2014_000000292734.jpg', shape=(), dtype=string) tf.Tensor(292734, shape=(), dtype=int64)\n",
      "Label: clock\n",
      "tf.Tensor(b'COCO_train2014_000000100371.jpg', shape=(), dtype=string) tf.Tensor(100371, shape=(), dtype=int64)\n",
      "Label: sheep, cow, sheep\n",
      "tf.Tensor(b'COCO_train2014_000000401650.jpg', shape=(), dtype=string) tf.Tensor(401650, shape=(), dtype=int64)\n",
      "Label: person, person, cow\n",
      "tf.Tensor(b'COCO_train2014_000000441358.jpg', shape=(), dtype=string) tf.Tensor(441358, shape=(), dtype=int64)\n",
      "Label: toilet\n",
      "tf.Tensor(b'COCO_train2014_000000248637.jpg', shape=(), dtype=string) tf.Tensor(248637, shape=(), dtype=int64)\n",
      "Label: person, surfboard\n",
      "tf.Tensor(b'COCO_train2014_000000150797.jpg', shape=(), dtype=string) tf.Tensor(150797, shape=(), dtype=int64)\n",
      "Label: car, car, car, person, skateboard, truck\n",
      "tf.Tensor(b'COCO_train2014_000000023673.jpg', shape=(), dtype=string) tf.Tensor(23673, shape=(), dtype=int64)\n",
      "Label: person, person, kite, kite, kite, kite, kite, person\n",
      "tf.Tensor(b'COCO_train2014_000000072041.jpg', shape=(), dtype=string) tf.Tensor(72041, shape=(), dtype=int64)\n",
      "Label: fire hydrant, truck\n",
      "tf.Tensor(b'COCO_train2014_000000113787.jpg', shape=(), dtype=string) tf.Tensor(113787, shape=(), dtype=int64)\n",
      "Label: bird, giraffe\n",
      "tf.Tensor(b'COCO_train2014_000000476054.jpg', shape=(), dtype=string) tf.Tensor(476054, shape=(), dtype=int64)\n",
      "Label: tv, person, person, bench, bench, skateboard, chair, dining table\n",
      "tf.Tensor(b'COCO_train2014_000000357750.jpg', shape=(), dtype=string) tf.Tensor(357750, shape=(), dtype=int64)\n",
      "Label: potted plant, tv, couch, dining table, bowl, book, book, chair, remote, vase, vase\n",
      "tf.Tensor(b'COCO_train2014_000000410409.jpg', shape=(), dtype=string) tf.Tensor(410409, shape=(), dtype=int64)\n",
      "Label: person, person, person, person, person, person, person, tv, book, chair, chair, remote, book, person, person, chair\n",
      "tf.Tensor(b'COCO_train2014_000000288797.jpg', shape=(), dtype=string) tf.Tensor(288797, shape=(), dtype=int64)\n",
      "Label: person, skis\n",
      "tf.Tensor(b'COCO_train2014_000000236677.jpg', shape=(), dtype=string) tf.Tensor(236677, shape=(), dtype=int64)\n",
      "Label: person, person, person, person, person, person, person, bird, kite, kite, kite, kite, kite, kite, kite, kite, kite, kite, kite, kite, person, person, car, truck, person, person, person, person, kite, person, kite\n",
      "tf.Tensor(b'COCO_train2014_000000313254.jpg', shape=(), dtype=string) tf.Tensor(313254, shape=(), dtype=int64)\n",
      "Label: cell phone, dining table, cup, bowl, sandwich, sandwich, cup, sandwich\n",
      "tf.Tensor(b'COCO_train2014_000000427992.jpg', shape=(), dtype=string) tf.Tensor(427992, shape=(), dtype=int64)\n",
      "Label: \n",
      "tf.Tensor(b'COCO_train2014_000000272441.jpg', shape=(), dtype=string) tf.Tensor(272441, shape=(), dtype=int64)\n",
      "Label: bed, book, teddy bear\n",
      "tf.Tensor(b'COCO_train2014_000000577380.jpg', shape=(), dtype=string) tf.Tensor(577380, shape=(), dtype=int64)\n",
      "Label: person, snowboard\n",
      "tf.Tensor(b'COCO_train2014_000000330175.jpg', shape=(), dtype=string) tf.Tensor(330175, shape=(), dtype=int64)\n",
      "Label: person, skateboard, bench\n",
      "tf.Tensor(b'COCO_train2014_000000564557.jpg', shape=(), dtype=string) tf.Tensor(564557, shape=(), dtype=int64)\n",
      "Label: potted plant, potted plant, potted plant, chair, couch, book, book, book, book, book, book, book, chair, potted plant, book, book, vase, chair, book, potted plant\n",
      "tf.Tensor(b'COCO_train2014_000000319163.jpg', shape=(), dtype=string) tf.Tensor(319163, shape=(), dtype=int64)\n",
      "Label: sheep, person, cup\n",
      "tf.Tensor(b'COCO_train2014_000000038041.jpg', shape=(), dtype=string) tf.Tensor(38041, shape=(), dtype=int64)\n",
      "Label: person, surfboard\n",
      "tf.Tensor(b'COCO_train2014_000000282667.jpg', shape=(), dtype=string) tf.Tensor(282667, shape=(), dtype=int64)\n",
      "Label: person, bowl, bowl, scissors, cup\n",
      "tf.Tensor(b'COCO_train2014_000000441095.jpg', shape=(), dtype=string) tf.Tensor(441095, shape=(), dtype=int64)\n",
      "Label: toilet, toilet, toilet, toilet\n",
      "tf.Tensor(b'COCO_train2014_000000045672.jpg', shape=(), dtype=string) tf.Tensor(45672, shape=(), dtype=int64)\n",
      "Label: couch, person, person, cup, cup, fork, knife, cake, cake, dining table\n",
      "tf.Tensor(b'COCO_train2014_000000035052.jpg', shape=(), dtype=string) tf.Tensor(35052, shape=(), dtype=int64)\n"
     ]
    },
    {
     "ename": "KeyboardInterrupt",
     "evalue": "",
     "output_type": "error",
     "traceback": [
      "\u001b[0;31m---------------------------------------------------------------------------\u001b[0m",
      "\u001b[0;31mKeyboardInterrupt\u001b[0m                         Traceback (most recent call last)",
      "\u001b[0;32m<ipython-input-9-0ca938acb137>\u001b[0m in \u001b[0;36m<module>\u001b[0;34m\u001b[0m\n\u001b[1;32m      6\u001b[0m \u001b[0;34m\u001b[0m\u001b[0m\n\u001b[1;32m      7\u001b[0m     \u001b[0mobjects\u001b[0m \u001b[0;34m=\u001b[0m \u001b[0;34m''\u001b[0m\u001b[0;34m\u001b[0m\u001b[0;34m\u001b[0m\u001b[0m\n\u001b[0;32m----> 8\u001b[0;31m     \u001b[0;32mfor\u001b[0m \u001b[0mindex\u001b[0m \u001b[0;32min\u001b[0m \u001b[0mlabel\u001b[0m\u001b[0;34m:\u001b[0m\u001b[0;34m\u001b[0m\u001b[0;34m\u001b[0m\u001b[0m\n\u001b[0m\u001b[1;32m      9\u001b[0m         \u001b[0mobjects\u001b[0m \u001b[0;34m+=\u001b[0m \u001b[0minfo\u001b[0m\u001b[0;34m.\u001b[0m\u001b[0mfeatures\u001b[0m\u001b[0;34m[\u001b[0m\u001b[0;34m'objects'\u001b[0m\u001b[0;34m]\u001b[0m\u001b[0;34m[\u001b[0m\u001b[0;34m\"label\"\u001b[0m\u001b[0;34m]\u001b[0m\u001b[0;34m.\u001b[0m\u001b[0mnames\u001b[0m\u001b[0;34m[\u001b[0m\u001b[0mindex\u001b[0m\u001b[0;34m]\u001b[0m \u001b[0;34m+\u001b[0m \u001b[0;34m', '\u001b[0m\u001b[0;34m\u001b[0m\u001b[0;34m\u001b[0m\u001b[0m\n\u001b[1;32m     10\u001b[0m     \u001b[0mobjects\u001b[0m \u001b[0;34m=\u001b[0m \u001b[0mobjects\u001b[0m\u001b[0;34m[\u001b[0m\u001b[0;34m:\u001b[0m\u001b[0;34m-\u001b[0m\u001b[0;36m2\u001b[0m\u001b[0;34m]\u001b[0m\u001b[0;34m\u001b[0m\u001b[0;34m\u001b[0m\u001b[0m\n",
      "\u001b[0;32m/usr/local/lib/python3.6/dist-packages/tensorflow_core/python/framework/ops.py\u001b[0m in \u001b[0;36m__iter__\u001b[0;34m(self)\u001b[0m\n\u001b[1;32m    548\u001b[0m           \"Cannot iterate over a tensor with unknown first dimension.\")\n\u001b[1;32m    549\u001b[0m     \u001b[0;32mfor\u001b[0m \u001b[0mi\u001b[0m \u001b[0;32min\u001b[0m \u001b[0mxrange\u001b[0m\u001b[0;34m(\u001b[0m\u001b[0mshape\u001b[0m\u001b[0;34m[\u001b[0m\u001b[0;36m0\u001b[0m\u001b[0;34m]\u001b[0m\u001b[0;34m)\u001b[0m\u001b[0;34m:\u001b[0m\u001b[0;34m\u001b[0m\u001b[0;34m\u001b[0m\u001b[0m\n\u001b[0;32m--> 550\u001b[0;31m       \u001b[0;32myield\u001b[0m \u001b[0mself\u001b[0m\u001b[0;34m[\u001b[0m\u001b[0mi\u001b[0m\u001b[0;34m]\u001b[0m\u001b[0;34m\u001b[0m\u001b[0;34m\u001b[0m\u001b[0m\n\u001b[0m\u001b[1;32m    551\u001b[0m \u001b[0;34m\u001b[0m\u001b[0m\n\u001b[1;32m    552\u001b[0m   \u001b[0;32mdef\u001b[0m \u001b[0m_shape_as_list\u001b[0m\u001b[0;34m(\u001b[0m\u001b[0mself\u001b[0m\u001b[0;34m)\u001b[0m\u001b[0;34m:\u001b[0m\u001b[0;34m\u001b[0m\u001b[0;34m\u001b[0m\u001b[0m\n",
      "\u001b[0;32m/usr/local/lib/python3.6/dist-packages/tensorflow_core/python/ops/array_ops.py\u001b[0m in \u001b[0;36m_slice_helper\u001b[0;34m(tensor, slice_spec, var)\u001b[0m\n\u001b[1;32m    896\u001b[0m         \u001b[0mellipsis_mask\u001b[0m\u001b[0;34m=\u001b[0m\u001b[0mellipsis_mask\u001b[0m\u001b[0;34m,\u001b[0m\u001b[0;34m\u001b[0m\u001b[0;34m\u001b[0m\u001b[0m\n\u001b[1;32m    897\u001b[0m         \u001b[0mvar\u001b[0m\u001b[0;34m=\u001b[0m\u001b[0mvar\u001b[0m\u001b[0;34m,\u001b[0m\u001b[0;34m\u001b[0m\u001b[0;34m\u001b[0m\u001b[0m\n\u001b[0;32m--> 898\u001b[0;31m         name=name)\n\u001b[0m\u001b[1;32m    899\u001b[0m \u001b[0;34m\u001b[0m\u001b[0m\n\u001b[1;32m    900\u001b[0m \u001b[0;34m\u001b[0m\u001b[0m\n",
      "\u001b[0;32m/usr/local/lib/python3.6/dist-packages/tensorflow_core/python/ops/array_ops.py\u001b[0m in \u001b[0;36mstrided_slice\u001b[0;34m(input_, begin, end, strides, begin_mask, end_mask, ellipsis_mask, new_axis_mask, shrink_axis_mask, var, name)\u001b[0m\n\u001b[1;32m   1062\u001b[0m       \u001b[0mellipsis_mask\u001b[0m\u001b[0;34m=\u001b[0m\u001b[0mellipsis_mask\u001b[0m\u001b[0;34m,\u001b[0m\u001b[0;34m\u001b[0m\u001b[0;34m\u001b[0m\u001b[0m\n\u001b[1;32m   1063\u001b[0m       \u001b[0mnew_axis_mask\u001b[0m\u001b[0;34m=\u001b[0m\u001b[0mnew_axis_mask\u001b[0m\u001b[0;34m,\u001b[0m\u001b[0;34m\u001b[0m\u001b[0;34m\u001b[0m\u001b[0m\n\u001b[0;32m-> 1064\u001b[0;31m       shrink_axis_mask=shrink_axis_mask)\n\u001b[0m\u001b[1;32m   1065\u001b[0m \u001b[0;34m\u001b[0m\u001b[0m\n\u001b[1;32m   1066\u001b[0m   \u001b[0mparent_name\u001b[0m \u001b[0;34m=\u001b[0m \u001b[0mname\u001b[0m\u001b[0;34m\u001b[0m\u001b[0;34m\u001b[0m\u001b[0m\n",
      "\u001b[0;32m/usr/local/lib/python3.6/dist-packages/tensorflow_core/python/ops/gen_array_ops.py\u001b[0m in \u001b[0;36mstrided_slice\u001b[0;34m(input, begin, end, strides, begin_mask, end_mask, ellipsis_mask, new_axis_mask, shrink_axis_mask, name)\u001b[0m\n\u001b[1;32m   9499\u001b[0m         \u001b[0mtld\u001b[0m\u001b[0;34m.\u001b[0m\u001b[0mop_callbacks\u001b[0m\u001b[0;34m,\u001b[0m \u001b[0minput\u001b[0m\u001b[0;34m,\u001b[0m \u001b[0mbegin\u001b[0m\u001b[0;34m,\u001b[0m \u001b[0mend\u001b[0m\u001b[0;34m,\u001b[0m \u001b[0mstrides\u001b[0m\u001b[0;34m,\u001b[0m \u001b[0;34m\"begin_mask\"\u001b[0m\u001b[0;34m,\u001b[0m\u001b[0;34m\u001b[0m\u001b[0;34m\u001b[0m\u001b[0m\n\u001b[1;32m   9500\u001b[0m         \u001b[0mbegin_mask\u001b[0m\u001b[0;34m,\u001b[0m \u001b[0;34m\"end_mask\"\u001b[0m\u001b[0;34m,\u001b[0m \u001b[0mend_mask\u001b[0m\u001b[0;34m,\u001b[0m \u001b[0;34m\"ellipsis_mask\"\u001b[0m\u001b[0;34m,\u001b[0m \u001b[0mellipsis_mask\u001b[0m\u001b[0;34m,\u001b[0m\u001b[0;34m\u001b[0m\u001b[0;34m\u001b[0m\u001b[0m\n\u001b[0;32m-> 9501\u001b[0;31m         \"new_axis_mask\", new_axis_mask, \"shrink_axis_mask\", shrink_axis_mask)\n\u001b[0m\u001b[1;32m   9502\u001b[0m       \u001b[0;32mreturn\u001b[0m \u001b[0m_result\u001b[0m\u001b[0;34m\u001b[0m\u001b[0;34m\u001b[0m\u001b[0m\n\u001b[1;32m   9503\u001b[0m     \u001b[0;32mexcept\u001b[0m \u001b[0m_core\u001b[0m\u001b[0;34m.\u001b[0m\u001b[0m_FallbackException\u001b[0m\u001b[0;34m:\u001b[0m\u001b[0;34m\u001b[0m\u001b[0;34m\u001b[0m\u001b[0m\n",
      "\u001b[0;31mKeyboardInterrupt\u001b[0m: "
     ]
    }
   ],
   "source": [
    "count = 0\n",
    "for coco_example in coco_train:\n",
    "    count += 1\n",
    "    print(coco_example['image/filename'], coco_example['image/id'])\n",
    "    image, label, area, bbox = coco_example['image'], coco_example['objects']['label'], coco_example['objects']['area'], coco_example['objects']['bbox']\n",
    "\n",
    "    objects = ''\n",
    "    for index in label:\n",
    "        objects += info.features['objects'][\"label\"].names[index] + ', '\n",
    "    objects = objects[:-2]\n",
    "    print('--------------Person detected')\n",
    "    plt.imshow(image)\n",
    "    print(\"Label: \" + objects)"
   ]
  },
  {
   "cell_type": "code",
   "execution_count": 10,
   "metadata": {},
   "outputs": [
    {
     "data": {
      "text/plain": [
       "<DatasetV1Adapter shapes: {image: (None, None, 3), image/filename: (), image/id: (), objects: {area: (None,), bbox: (None, 4), id: (None,), is_crowd: (None,), label: (None,)}}, types: {image: tf.uint8, image/filename: tf.string, image/id: tf.int64, objects: {area: tf.int64, bbox: tf.float32, id: tf.int64, is_crowd: tf.bool, label: tf.int64}}>"
      ]
     },
     "execution_count": 10,
     "metadata": {},
     "output_type": "execute_result"
    }
   ],
   "source": [
    "coco_train"
   ]
  },
  {
   "cell_type": "code",
   "execution_count": null,
   "metadata": {},
   "outputs": [],
   "source": []
  }
 ],
 "metadata": {
  "kernelspec": {
   "display_name": "Python 3",
   "language": "python",
   "name": "python3"
  },
  "language_info": {
   "codemirror_mode": {
    "name": "ipython",
    "version": 3
   },
   "file_extension": ".py",
   "mimetype": "text/x-python",
   "name": "python",
   "nbconvert_exporter": "python",
   "pygments_lexer": "ipython3",
   "version": "3.6.8"
  }
 },
 "nbformat": 4,
 "nbformat_minor": 4
}
